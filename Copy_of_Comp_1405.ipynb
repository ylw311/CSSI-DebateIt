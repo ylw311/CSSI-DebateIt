{
  "nbformat": 4,
  "nbformat_minor": 0,
  "metadata": {
    "colab": {
      "provenance": [],
      "toc_visible": true,
      "collapsed_sections": [],
      "authorship_tag": "ABX9TyONHQ7ZR3qrKgvr6svMjy5Y",
      "include_colab_link": true
    },
    "kernelspec": {
      "name": "python3",
      "display_name": "Python 3"
    },
    "language_info": {
      "name": "python"
    }
  },
  "cells": [
    {
      "cell_type": "markdown",
      "metadata": {
        "id": "view-in-github",
        "colab_type": "text"
      },
      "source": [
        "<a href=\"https://colab.research.google.com/github/ylw311/CSSI-DebateIt/blob/main/Copy_of_Comp_1405.ipynb\" target=\"_parent\"><img src=\"https://colab.research.google.com/assets/colab-badge.svg\" alt=\"Open In Colab\"/></a>"
      ]
    },
    {
      "cell_type": "code",
      "execution_count": null,
      "metadata": {
        "id": "j22h2j3P75ao"
      },
      "outputs": [],
      "source": []
    },
    {
      "cell_type": "markdown",
      "source": [
        "Steps in problem solving"
      ],
      "metadata": {
        "id": "GuOdlfNP8lTJ"
      }
    },
    {
      "cell_type": "markdown",
      "source": [],
      "metadata": {
        "id": "TNKmNqxA8hP9"
      }
    },
    {
      "cell_type": "markdown",
      "source": [
        "#Steps to solving a problem\n",
        "- ## Understand the problem \n",
        "- ## Devising a plan\n",
        "- ## Carrying out the plan  \n",
        "- ## Looking back\n"
      ],
      "metadata": {
        "id": "tE4tYVq2__zp"
      }
    },
    {
      "cell_type": "code",
      "source": [
        "print( 'hello world')"
      ],
      "metadata": {
        "colab": {
          "base_uri": "https://localhost:8080/"
        },
        "id": "mCxu0iWKCbRQ",
        "outputId": "d9c9f379-1683-48e8-ee38-78c3c5c351ab"
      },
      "execution_count": null,
      "outputs": [
        {
          "output_type": "stream",
          "name": "stdout",
          "text": [
            "hello world\n"
          ]
        }
      ]
    },
    {
      "cell_type": "markdown",
      "source": [
        "###**Contrasting algorithmic design to Programming**\n",
        "\n",
        "#####An  **Algorithm** is a finite ,ordered set of  unambiguous instructions that **define** a process that will eventually terminate\n",
        "\n",
        "- Algorithms are sequences of steps designed to accomplish a specific task \n",
        "\n",
        "- A **representation** of an algorithm that can be **excecuted** by a computer is known as a **program**\n",
        "\n",
        "*If the implementation is hard to explain its a bad idea if the implimentation is easy to explain it may be a good idea*\n",
        "\n"
      ],
      "metadata": {
        "id": "2T1Tx4aYGiEQ"
      }
    },
    {
      "cell_type": "markdown",
      "source": [
        "# **Programming Languages VS Natural Languages** \n",
        "\n",
        "- Humans use **Natural language** to communicate with other humans\n",
        "- Electronic devices (typically) use **Machine languages** to communicate with other electronic devices."
      ],
      "metadata": {
        "id": "LRvJSoxNpt3j"
      }
    },
    {
      "cell_type": "markdown",
      "source": [],
      "metadata": {
        "id": "G5JiTdP2Hp23"
      }
    }
  ]
}